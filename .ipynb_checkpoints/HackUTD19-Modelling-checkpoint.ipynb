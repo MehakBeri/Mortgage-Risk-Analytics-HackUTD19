{
 "cells": [
  {
   "cell_type": "code",
   "execution_count": 231,
   "metadata": {},
   "outputs": [],
   "source": [
    "import pandas as pd\n",
    "from sklearn.ensemble import RandomForestClassifier\n",
    "from sklearn.utils import shuffle\n",
    "from sklearn.model_selection import train_test_split\n",
    "from sklearn import tree\n",
    "from sklearn import preprocessing"
   ]
  },
  {
   "cell_type": "markdown",
   "metadata": {},
   "source": [
    "# Foreclosure Data"
   ]
  },
  {
   "cell_type": "code",
   "execution_count": 265,
   "metadata": {},
   "outputs": [],
   "source": [
    "file = pd.read_csv('foreclosure_data.csv')\n",
    "original = file.copy(deep=True)\n"
   ]
  },
  {
   "cell_type": "code",
   "execution_count": 257,
   "metadata": {},
   "outputs": [
    {
     "data": {
      "text/plain": [
       "['loanID',\n",
       " 'origChannel',\n",
       " 'sellerName',\n",
       " 'origIntRate',\n",
       " 'orgUPB',\n",
       " 'orgLoanTerm',\n",
       " 'orginationDate',\n",
       " 'firstPaymentDate',\n",
       " 'orgLTV',\n",
       " 'orgCombinedLTV',\n",
       " 'numBorrowers',\n",
       " 'orgDebttoIncomeRatio',\n",
       " 'borrowerCreditScoreAtOrigination',\n",
       " 'firstTimeHomeBuyer',\n",
       " 'loanPurpose',\n",
       " 'propType',\n",
       " 'numUnits',\n",
       " 'occType',\n",
       " 'propertyState',\n",
       " 'zipCodeShort',\n",
       " 'priMortgageInsurancePercent',\n",
       " 'prodType',\n",
       " 'coBorrowerCreditScoreAtOrigination',\n",
       " 'mortInsType',\n",
       " 'reloMortIndicator',\n",
       " 'foreclosed']"
      ]
     },
     "execution_count": 257,
     "metadata": {},
     "output_type": "execute_result"
    }
   ],
   "source": [
    "colvals = file.columns.tolist()\n",
    "colvals"
   ]
  },
  {
   "cell_type": "code",
   "execution_count": 234,
   "metadata": {},
   "outputs": [
    {
     "data": {
      "text/plain": [
       "<bound method NDFrame.describe of             loanID origChannel                                 sellerName  \\\n",
       "0     100007365142           R                    JPMORGAN CHASE BANK  NA   \n",
       "1     100007386460           B                    JPMORGAN CHASE BANK  NA   \n",
       "2     100023274028           R  FIRST TENNESSEE BANK NATIONAL ASSOCIATION   \n",
       "3     100026859568           C  FIRST TENNESSEE BANK NATIONAL ASSOCIATION   \n",
       "4     100028993931           R                     WELLS FARGO BANK  N.A.   \n",
       "5     100035719682           R                   JP MORGAN CHASE BANK  NA   \n",
       "6     100048724218           B                    JPMORGAN CHASE BANK  NA   \n",
       "7     100057706656           B                         FLAGSTAR BANK  FSB   \n",
       "8     100079064875           R                         GMAC MORTGAGE  LLC   \n",
       "9     100088638564           R                  USAA FEDERAL SAVINGS BANK   \n",
       "10    100094030068           C                         CITIMORTGAGE  INC.   \n",
       "11    100100228738           R                    JPMORGAN CHASE BANK  NA   \n",
       "12    100119700071           R                     WELLS FARGO BANK  N.A.   \n",
       "13    100122893931           R                                      OTHER   \n",
       "14    100132383737           C                      BANK OF AMERICA  N.A.   \n",
       "15    100135299882           R                      BANK OF AMERICA  N.A.   \n",
       "16    100138190869           R                         CITIMORTGAGE  INC.   \n",
       "17    100151690382           R                    JPMORGAN CHASE BANK  NA   \n",
       "18    100162317966           C                    JPMORGAN CHASE BANK  NA   \n",
       "19    100178281207           R                     WELLS FARGO BANK  N.A.   \n",
       "20    100185534396           C                         FLAGSTAR BANK  FSB   \n",
       "21    100191284472           R  JPMORGAN CHASE BANK  NATIONAL ASSOCIATION   \n",
       "22    100199760845           B                                      OTHER   \n",
       "23    100201079370           B  FIRST TENNESSEE BANK NATIONAL ASSOCIATION   \n",
       "24    100205888542           R                                      OTHER   \n",
       "25    100207354995           B                    JPMORGAN CHASE BANK  NA   \n",
       "26    100223375008           R                      BANK OF AMERICA  N.A.   \n",
       "27    100244595640           B                                      OTHER   \n",
       "28    100247319272           B                         FLAGSTAR BANK  FSB   \n",
       "29    100249783497           R                   JP MORGAN CHASE BANK  NA   \n",
       "...            ...         ...                                        ...   \n",
       "4862  136039025140           R                                      OTHER   \n",
       "4863  136051668402           B                               REGIONS BANK   \n",
       "4864  136055739489           R                                      OTHER   \n",
       "4865  136057137402           R                                      OTHER   \n",
       "4866  136062095199           C                     SUNTRUST MORTGAGE INC.   \n",
       "4867  136062323173           R                                      OTHER   \n",
       "4868  136064564132           R                                      OTHER   \n",
       "4869  136065103119           R                         GMAC MORTGAGE  LLC   \n",
       "4870  136066426891           C                                      OTHER   \n",
       "4871  136070112367           C                    JPMORGAN CHASE BANK  NA   \n",
       "4872  136070614541           C                   NETBANK FUNDING SERVICES   \n",
       "4873  136072403764           R              HARWOOD STREET FUNDING I  LLC   \n",
       "4874  136084194283           C                         FLAGSTAR BANK  FSB   \n",
       "4875  136092371504           B                      BANK OF AMERICA  N.A.   \n",
       "4876  136099222845           C                    JPMORGAN CHASE BANK  NA   \n",
       "4877  136102778652           C                   NETBANK FUNDING SERVICES   \n",
       "4878  136103052573           B                    JPMORGAN CHASE BANK  NA   \n",
       "4879  136106219452           C                               AMTRUST BANK   \n",
       "4880  136108451635           C                    JPMORGAN CHASE BANK  NA   \n",
       "4881  136113890965           C                                      OTHER   \n",
       "4882  136130370173           B  JPMORGAN CHASE BANK  NATIONAL ASSOCIATION   \n",
       "4883  136143644395           C                         FLAGSTAR BANK  FSB   \n",
       "4884  136145207235           C                   NETBANK FUNDING SERVICES   \n",
       "4885  136159181710           R    BISHOPS GATE RESIDENTIAL MORTGAGE TRUST   \n",
       "4886  136160263134           R                    JPMORGAN CHASE BANK  NA   \n",
       "4887  136161235451           C                      BANK OF AMERICA  N.A.   \n",
       "4888  136163023681           B                      BANK OF AMERICA  N.A.   \n",
       "4889  136174893885           R                                      OTHER   \n",
       "4890  136183282711           C                         GMAC MORTGAGE  LLC   \n",
       "4891  136194001470           C                    JPMORGAN CHASE BANK  NA   \n",
       "\n",
       "      origIntRate  orgUPB  orgLoanTerm orginationDate firstPaymentDate  \\\n",
       "0           8.000   75000          360        12/1999          02/2000   \n",
       "1           7.875   55000          180        01/2000          03/2000   \n",
       "2           8.000  130000          360        01/2000          03/2000   \n",
       "3           8.375  107000          360        02/2000          04/2000   \n",
       "4           8.000   37000          180        02/2000          04/2000   \n",
       "5           8.000   60000          360        01/2000          03/2000   \n",
       "6           7.750  153000          360        12/1999          02/2000   \n",
       "7           8.250  137000          360        12/1999          02/2000   \n",
       "8           8.375  175000          360        01/2000          03/2000   \n",
       "9           8.250  202000          360        01/2000          03/2000   \n",
       "10          7.750  152000          360        11/1999          01/2000   \n",
       "11          8.000   84000          360        01/2000          03/2000   \n",
       "12          8.125  126000          360        11/1999          01/2000   \n",
       "13          7.500   90000          360        12/1999          02/2000   \n",
       "14          7.625  165000          360        12/1999          02/2000   \n",
       "15          8.125  129000          360        01/2000          03/2000   \n",
       "16          8.375   49000          360        01/2000          03/2000   \n",
       "17          8.125  155000          360        12/1999          02/2000   \n",
       "18          7.875   82000          360        12/1999          02/2000   \n",
       "19          7.875   54000          360        12/1999          02/2000   \n",
       "20          7.875  153000          360        12/1999          01/2000   \n",
       "21          8.125   89000          360        12/1999          02/2000   \n",
       "22          7.625  180000          180        01/2000          03/2000   \n",
       "23          8.875   59000          360        02/2000          04/2000   \n",
       "24          7.500  240000          360        01/2000          02/2000   \n",
       "25          7.875   74000          360        01/2000          03/2000   \n",
       "26          8.250  121000          360        02/2000          04/2000   \n",
       "27          8.625  110000          360        02/2000          04/2000   \n",
       "28          8.000  147000          360        12/1999          02/2000   \n",
       "29          7.625  108000          360        12/1999          02/2000   \n",
       "...           ...     ...          ...            ...              ...   \n",
       "4862        7.500  225000          360        01/2000          03/2000   \n",
       "4863        8.125   90000          360        12/1999          02/2000   \n",
       "4864        7.250  155000          360        11/1999          01/2000   \n",
       "4865        8.250  119000          360        02/2000          04/2000   \n",
       "4866        7.625  126000          360        11/1999          01/2000   \n",
       "4867        8.625   44000          360        01/2000          03/2000   \n",
       "4868        8.750   40000          360        12/1999          02/2000   \n",
       "4869        7.875   78000          240        12/1999          02/2000   \n",
       "4870        8.000  181000          360        01/2000          03/2000   \n",
       "4871        7.750  112000          180        02/2000          04/2000   \n",
       "4872        8.125  150000          360        12/1999          02/2000   \n",
       "4873        7.750   96000          360        02/2000          04/2000   \n",
       "4874        7.500  121000          180        01/2000          03/2000   \n",
       "4875        8.750  126000          360        02/2000          04/2000   \n",
       "4876        7.750   41000          360        11/1999          01/2000   \n",
       "4877        7.625   90000          360        12/1999          02/2000   \n",
       "4878        8.125  125000          360        01/2000          03/2000   \n",
       "4879        7.500   63000          180        11/1999          01/2000   \n",
       "4880        7.375  198000          360        11/1999          01/2000   \n",
       "4881        7.625  174000          360        12/1999          01/2000   \n",
       "4882        8.125   63000          360        12/1999          02/2000   \n",
       "4883        8.000   86000          360        01/2000          03/2000   \n",
       "4884        8.125  212000          360        01/2000          03/2000   \n",
       "4885        7.250  149000          180        02/2000          04/2000   \n",
       "4886        7.250  180000          180        02/2000          04/2000   \n",
       "4887        7.625  160000          360        12/1999          02/2000   \n",
       "4888        7.750   40000          360        02/2000          04/2000   \n",
       "4889        7.875  155000          360        01/2000          03/2000   \n",
       "4890        7.375   71000          360        01/2000          03/2000   \n",
       "4891        7.875  156000          360        12/1999          02/2000   \n",
       "\n",
       "      orgLTV  orgCombinedLTV  ...  numUnits  occType  propertyState  \\\n",
       "0         79             NaN  ...         1        P             PA   \n",
       "1         69             NaN  ...         1        P             MD   \n",
       "2         61             NaN  ...         1        P             GA   \n",
       "3         95             NaN  ...         1        P             MO   \n",
       "4         63             NaN  ...         1        P             NC   \n",
       "5         97             NaN  ...         1        P             MI   \n",
       "6         80             NaN  ...         1        S             OR   \n",
       "7         80             NaN  ...         1        P             OH   \n",
       "8         80             NaN  ...         1        P             CO   \n",
       "9         80             NaN  ...         1        P             OH   \n",
       "10        85             NaN  ...         1        P             NV   \n",
       "11        75             NaN  ...         1        P             IN   \n",
       "12        95             NaN  ...         1        P             FL   \n",
       "13        90             NaN  ...         1        P             HI   \n",
       "14        80             NaN  ...         1        P             TN   \n",
       "15        93             NaN  ...         1        P             LA   \n",
       "16        31             NaN  ...         1        P             CA   \n",
       "17        83             NaN  ...         1        P             NY   \n",
       "18        95             NaN  ...         1        P             TX   \n",
       "19        80             NaN  ...         1        P             FL   \n",
       "20        94             NaN  ...         1        P             AL   \n",
       "21        97             NaN  ...         1        P             FL   \n",
       "22        75             NaN  ...         1        P             IL   \n",
       "23        73             NaN  ...         1        P             CA   \n",
       "24        80             NaN  ...         1        P             VA   \n",
       "25        80             NaN  ...         1        P             ID   \n",
       "26        71             NaN  ...         1        P             CA   \n",
       "27        88             NaN  ...         1        P             TX   \n",
       "28        80             NaN  ...         1        P             CA   \n",
       "29        63             NaN  ...         1        P             MI   \n",
       "...      ...             ...  ...       ...      ...            ...   \n",
       "4862      79             NaN  ...         1        P             CA   \n",
       "4863      80             NaN  ...         1        P             MS   \n",
       "4864      75             NaN  ...         1        P             MI   \n",
       "4865      95             NaN  ...         1        P             AR   \n",
       "4866      80             NaN  ...         1        P             NC   \n",
       "4867      42             NaN  ...         1        P             NC   \n",
       "4868      97             NaN  ...         1        P             TX   \n",
       "4869      71             NaN  ...         1        P             MO   \n",
       "4870      78             NaN  ...         2        P             IL   \n",
       "4871      78             NaN  ...         1        P             NC   \n",
       "4872      72             NaN  ...         1        P             MA   \n",
       "4873      80             NaN  ...         1        P             TX   \n",
       "4874      80             NaN  ...         1        P             LA   \n",
       "4875      97             NaN  ...         1        P             NC   \n",
       "4876      63             NaN  ...         1        P             OK   \n",
       "4877      80             NaN  ...         1        P             KY   \n",
       "4878      76             NaN  ...         1        P             LA   \n",
       "4879      75             NaN  ...         1        P             NC   \n",
       "4880      95             NaN  ...         1        P             RI   \n",
       "4881      80             NaN  ...         1        P             FL   \n",
       "4882      90             NaN  ...         1        P             MA   \n",
       "4883      80             NaN  ...         1        P             ME   \n",
       "4884      80             NaN  ...         1        P             MA   \n",
       "4885      55             NaN  ...         1        P             CA   \n",
       "4886      90             NaN  ...         1        P             CA   \n",
       "4887      80             NaN  ...         1        P             GA   \n",
       "4888      58             NaN  ...         1        P             RI   \n",
       "4889      71             NaN  ...         1        P             VA   \n",
       "4890      77             NaN  ...         1        P             KY   \n",
       "4891      80             NaN  ...         1        P             TX   \n",
       "\n",
       "     zipCodeShort priMortgageInsurancePercent prodType  \\\n",
       "0             173                         NaN      FRM   \n",
       "1             208                         NaN      FRM   \n",
       "2             300                         NaN      FRM   \n",
       "3             633                        25.0      FRM   \n",
       "4             286                         NaN      FRM   \n",
       "5             491                        35.0      FRM   \n",
       "6             977                         NaN      FRM   \n",
       "7             450                         NaN      FRM   \n",
       "8             812                         NaN      FRM   \n",
       "9             442                         NaN      FRM   \n",
       "10            891                        25.0      FRM   \n",
       "11            462                         NaN      FRM   \n",
       "12            333                        30.0      FRM   \n",
       "13            967                        25.0      FRM   \n",
       "14            370                         NaN      FRM   \n",
       "15            704                        30.0      FRM   \n",
       "16            908                         NaN      FRM   \n",
       "17            125                        17.0      FRM   \n",
       "18            750                        25.0      FRM   \n",
       "19            338                         NaN      FRM   \n",
       "20            352                        25.0      FRM   \n",
       "21            342                        30.0      FRM   \n",
       "22            606                         NaN      FRM   \n",
       "23            954                         NaN      FRM   \n",
       "24            234                         NaN      FRM   \n",
       "25            835                         NaN      FRM   \n",
       "26            957                         NaN      FRM   \n",
       "27            762                        25.0      FRM   \n",
       "28            917                         NaN      FRM   \n",
       "29            493                         NaN      FRM   \n",
       "...           ...                         ...      ...   \n",
       "4862          948                         NaN      FRM   \n",
       "4863          390                         NaN      FRM   \n",
       "4864          480                         NaN      FRM   \n",
       "4865          727                        25.0      FRM   \n",
       "4866          272                         NaN      FRM   \n",
       "4867          286                         NaN      FRM   \n",
       "4868          775                        30.0      FRM   \n",
       "4869          630                         NaN      FRM   \n",
       "4870          606                         NaN      FRM   \n",
       "4871          277                         NaN      FRM   \n",
       "4872           23                         NaN      FRM   \n",
       "4873          765                         NaN      FRM   \n",
       "4874          705                         NaN      FRM   \n",
       "4875          278                        35.0      FRM   \n",
       "4876          740                         NaN      FRM   \n",
       "4877          404                         NaN      FRM   \n",
       "4878          707                         NaN      FRM   \n",
       "4879          275                         NaN      FRM   \n",
       "4880           28                        30.0      FRM   \n",
       "4881          337                         NaN      FRM   \n",
       "4882           17                        25.0      FRM   \n",
       "4883           40                         NaN      FRM   \n",
       "4884           20                         NaN      FRM   \n",
       "4885          910                         NaN      FRM   \n",
       "4886          940                        25.0      FRM   \n",
       "4887          300                         NaN      FRM   \n",
       "4888           29                         NaN      FRM   \n",
       "4889          221                         NaN      FRM   \n",
       "4890          402                         NaN      FRM   \n",
       "4891          787                         NaN      FRM   \n",
       "\n",
       "      coBorrowerCreditScoreAtOrigination mortInsType reloMortIndicator  \\\n",
       "0                                    NaN         NaN                 N   \n",
       "1                                    NaN         NaN                 N   \n",
       "2                                  782.0         NaN                 N   \n",
       "3                                    NaN         1.0                 N   \n",
       "4                                    NaN         NaN                 N   \n",
       "5                                    NaN         1.0                 N   \n",
       "6                                    NaN         NaN                 N   \n",
       "7                                    NaN         NaN                 N   \n",
       "8                                  791.0         NaN                 N   \n",
       "9                                  686.0         NaN                 N   \n",
       "10                                   NaN         1.0                 N   \n",
       "11                                 671.0         NaN                 N   \n",
       "12                                 653.0         1.0                 N   \n",
       "13                                   NaN         1.0                 N   \n",
       "14                                 745.0         NaN                 N   \n",
       "15                                 698.0         2.0                 N   \n",
       "16                                   NaN         NaN                 N   \n",
       "17                                 647.0         1.0                 N   \n",
       "18                                   NaN         1.0                 N   \n",
       "19                                   NaN         NaN                 N   \n",
       "20                                   NaN         1.0                 N   \n",
       "21                                   NaN         1.0                 N   \n",
       "22                                 751.0         NaN                 N   \n",
       "23                                 689.0         NaN                 N   \n",
       "24                                 741.0         NaN                 N   \n",
       "25                                   NaN         NaN                 N   \n",
       "26                                 717.0         NaN                 N   \n",
       "27                                 752.0         1.0                 N   \n",
       "28                                 798.0         NaN                 N   \n",
       "29                                   NaN         NaN                 N   \n",
       "...                                  ...         ...               ...   \n",
       "4862                                 NaN         NaN                 N   \n",
       "4863                                 NaN         NaN                 N   \n",
       "4864                                 NaN         NaN                 N   \n",
       "4865                                 NaN         1.0                 N   \n",
       "4866                               744.0         NaN                 N   \n",
       "4867                                 NaN         NaN                 N   \n",
       "4868                                 NaN         1.0                 N   \n",
       "4869                                 NaN         NaN                 N   \n",
       "4870                               711.0         NaN                 N   \n",
       "4871                               745.0         NaN                 N   \n",
       "4872                               765.0         NaN                 N   \n",
       "4873                               743.0         NaN                 N   \n",
       "4874                                 NaN         NaN                 N   \n",
       "4875                                 NaN         1.0                 N   \n",
       "4876                                 NaN         NaN                 N   \n",
       "4877                               767.0         NaN                 N   \n",
       "4878                               723.0         NaN                 N   \n",
       "4879                                 NaN         NaN                 N   \n",
       "4880                                 NaN         1.0                 N   \n",
       "4881                               692.0         NaN                 N   \n",
       "4882                                 NaN         1.0                 N   \n",
       "4883                               659.0         NaN                 N   \n",
       "4884                               652.0         NaN                 N   \n",
       "4885                                 NaN         NaN                 N   \n",
       "4886                                 NaN         1.0                 N   \n",
       "4887                               731.0         NaN                 N   \n",
       "4888                                 NaN         NaN                 N   \n",
       "4889                               773.0         NaN                 N   \n",
       "4890                                 NaN         NaN                 N   \n",
       "4891                               540.0         NaN                 N   \n",
       "\n",
       "      foreclosed  \n",
       "0             no  \n",
       "1             no  \n",
       "2             no  \n",
       "3             no  \n",
       "4             no  \n",
       "5             no  \n",
       "6             no  \n",
       "7             no  \n",
       "8             no  \n",
       "9             no  \n",
       "10            no  \n",
       "11            no  \n",
       "12            no  \n",
       "13            no  \n",
       "14            no  \n",
       "15            no  \n",
       "16            no  \n",
       "17            no  \n",
       "18            no  \n",
       "19            no  \n",
       "20            no  \n",
       "21            no  \n",
       "22            no  \n",
       "23            no  \n",
       "24            no  \n",
       "25            no  \n",
       "26            no  \n",
       "27            no  \n",
       "28            no  \n",
       "29            no  \n",
       "...          ...  \n",
       "4862          no  \n",
       "4863          no  \n",
       "4864          no  \n",
       "4865          no  \n",
       "4866          no  \n",
       "4867          no  \n",
       "4868          no  \n",
       "4869          no  \n",
       "4870          no  \n",
       "4871          no  \n",
       "4872          no  \n",
       "4873          no  \n",
       "4874          no  \n",
       "4875          no  \n",
       "4876          no  \n",
       "4877          no  \n",
       "4878          no  \n",
       "4879          no  \n",
       "4880          no  \n",
       "4881          no  \n",
       "4882          no  \n",
       "4883          no  \n",
       "4884          no  \n",
       "4885          no  \n",
       "4886          no  \n",
       "4887          no  \n",
       "4888          no  \n",
       "4889          no  \n",
       "4890          no  \n",
       "4891          no  \n",
       "\n",
       "[4892 rows x 26 columns]>"
      ]
     },
     "execution_count": 234,
     "metadata": {},
     "output_type": "execute_result"
    }
   ],
   "source": [
    "file.describe"
   ]
  },
  {
   "cell_type": "code",
   "execution_count": 235,
   "metadata": {},
   "outputs": [],
   "source": [
    "todrop=[]\n",
    "indtokeep = [3,5,9,10,11,12,19,20,26]\n",
    "i=1\n",
    "for x in colvals:\n",
    "    if i not in indtokeep:\n",
    "        todrop.append(x)\n",
    "    i += 1"
   ]
  },
  {
   "cell_type": "code",
   "execution_count": 236,
   "metadata": {},
   "outputs": [
    {
     "data": {
      "text/plain": [
       "array(['sellerName', 'orgUPB', 'orgLTV', 'orgCombinedLTV', 'numBorrowers',\n",
       "       'orgDebttoIncomeRatio', 'propertyState', 'zipCodeShort',\n",
       "       'foreclosed'], dtype=object)"
      ]
     },
     "execution_count": 236,
     "metadata": {},
     "output_type": "execute_result"
    }
   ],
   "source": [
    "file= file.drop(columns=todrop)\n",
    "file=file.dropna(axis='rows')\n",
    "file.columns.values"
   ]
  },
  {
   "cell_type": "code",
   "execution_count": 237,
   "metadata": {},
   "outputs": [
    {
     "name": "stdout",
     "output_type": "stream",
     "text": [
      "<class 'pandas.core.frame.DataFrame'>\n",
      "Int64Index: 17 entries, 367 to 4705\n",
      "Data columns (total 9 columns):\n",
      "sellerName              17 non-null object\n",
      "orgUPB                  17 non-null int64\n",
      "orgLTV                  17 non-null int64\n",
      "orgCombinedLTV          17 non-null float64\n",
      "numBorrowers            17 non-null float64\n",
      "orgDebttoIncomeRatio    17 non-null float64\n",
      "propertyState           17 non-null object\n",
      "zipCodeShort            17 non-null int64\n",
      "foreclosed              17 non-null object\n",
      "dtypes: float64(3), int64(3), object(3)\n",
      "memory usage: 1.3+ KB\n"
     ]
    },
    {
     "data": {
      "text/plain": [
       "<bound method NDFrame.describe of                    sellerName  orgUPB  orgLTV  orgCombinedLTV  numBorrowers  \\\n",
       "367   JPMORGAN CHASE BANK  NA  187000      80            90.0           2.0   \n",
       "384   JPMORGAN CHASE BANK  NA  150000      80            95.0           1.0   \n",
       "526   JPMORGAN CHASE BANK  NA  110000      80            95.0           1.0   \n",
       "807              REGIONS BANK  118000      80            90.0           2.0   \n",
       "872              AMTRUST BANK  200000      68            70.0           2.0   \n",
       "901   JPMORGAN CHASE BANK  NA  140000      80            95.0           1.0   \n",
       "1735             AMTRUST BANK   75000      64            65.0           2.0   \n",
       "1901                    OTHER   98000      80            95.0           1.0   \n",
       "2320  JPMORGAN CHASE BANK  NA  253000      79            89.0           2.0   \n",
       "2405  JPMORGAN CHASE BANK  NA  153000      80            90.0           2.0   \n",
       "2512                    OTHER   90000      44            54.0           2.0   \n",
       "2710  JPMORGAN CHASE BANK  NA  180000      80            90.0           1.0   \n",
       "2719                    OTHER  240000      56            75.0           1.0   \n",
       "3771  JPMORGAN CHASE BANK  NA  165000      97           100.0           2.0   \n",
       "3904                    OTHER  146000      73            90.0           2.0   \n",
       "4671  JPMORGAN CHASE BANK  NA  146000      97           100.0           2.0   \n",
       "4705  JPMORGAN CHASE BANK  NA  124000      80            95.0           2.0   \n",
       "\n",
       "      orgDebttoIncomeRatio propertyState  zipCodeShort foreclosed  \n",
       "367                   31.0            MI           483         no  \n",
       "384                   37.0            MA            21         no  \n",
       "526                   45.0            TX           752         no  \n",
       "807                   39.0            TX           782         no  \n",
       "872                   27.0            OH           450         no  \n",
       "901                   18.0            VA           225         no  \n",
       "1735                  22.0            NC           277         no  \n",
       "1901                  27.0            GA           300         no  \n",
       "2320                  34.0            CA           953         no  \n",
       "2405                  18.0            FL           339         no  \n",
       "2512                  31.0            SD           570         no  \n",
       "2710                  36.0            IL           606         no  \n",
       "2719                  39.0            TX           787         no  \n",
       "3771                  38.0            CA           926         no  \n",
       "3904                  46.0            IL           600         no  \n",
       "4671                  44.0            CA           920         no  \n",
       "4705                  38.0            MD           219         no  >"
      ]
     },
     "execution_count": 237,
     "metadata": {},
     "output_type": "execute_result"
    }
   ],
   "source": [
    "file.info()\n",
    "org_file=file\n",
    "file.describe"
   ]
  },
  {
   "cell_type": "code",
   "execution_count": 238,
   "metadata": {},
   "outputs": [
    {
     "name": "stdout",
     "output_type": "stream",
     "text": [
      "<class 'pandas.core.frame.DataFrame'>\n",
      "Int64Index: 17 entries, 367 to 4705\n",
      "Data columns (total 9 columns):\n",
      "orgUPB                  17 non-null int64\n",
      "orgLTV                  17 non-null int64\n",
      "orgCombinedLTV          17 non-null float64\n",
      "numBorrowers            17 non-null float64\n",
      "orgDebttoIncomeRatio    17 non-null float64\n",
      "zipCodeShort            17 non-null int64\n",
      "foreclosed              17 non-null object\n",
      "seller                  17 non-null int64\n",
      "state                   17 non-null int64\n",
      "dtypes: float64(3), int64(5), object(1)\n",
      "memory usage: 1.3+ KB\n"
     ]
    }
   ],
   "source": [
    "# more pre processing\n",
    "le = preprocessing.LabelEncoder()\n",
    "seller = le.fit(file['sellerName'])\n",
    "list(seller.classes_)\n",
    "seller.transform(file['sellerName'])\n",
    "file['seller'] = seller.transform(file['sellerName'])\n",
    "state = le.fit(file['propertyState'])\n",
    "list(state.classes_)\n",
    "file['state'] = state.transform(file['propertyState'])\n",
    "file = file.drop(columns=['sellerName','propertyState'])\n",
    "file.columns.tolist()\n",
    "file.info()"
   ]
  },
  {
   "cell_type": "code",
   "execution_count": 239,
   "metadata": {},
   "outputs": [
    {
     "name": "stderr",
     "output_type": "stream",
     "text": [
      "/usr/local/lib/python3.6/dist-packages/sklearn/preprocessing/data.py:323: DataConversionWarning: Data with input dtype int64, float64 were all converted to float64 by MinMaxScaler.\n",
      "  return self.partial_fit(X, y)\n"
     ]
    }
   ],
   "source": [
    "# scaling\n",
    "from sklearn.preprocessing import MinMaxScaler\n",
    "scaler = MinMaxScaler()\n",
    "to_scale = ['orgUPB','orgLTV','orgCombinedLTV','numBorrowers','orgDebttoIncomeRatio']\n",
    "file[['orgUPB','orgLTV','orgCombinedLTV','numBorrowers','orgDebttoIncomeRatio']] = scaler.fit_transform(file[['orgUPB','orgLTV','orgCombinedLTV','numBorrowers','orgDebttoIncomeRatio']])#file.describe\n",
    "\n",
    "#scaler.fit_transform(file[['orgUPB']])\n",
    "#scaler.transform([[75000]])\n",
    "#scaler.fit_transform(file[['orgUPB']])\n",
    "#scaler.fit_transform([[130000]])"
   ]
  },
  {
   "cell_type": "code",
   "execution_count": 240,
   "metadata": {},
   "outputs": [],
   "source": [
    "# scaler fn\n",
    "def scale(X,orig):\n",
    "    maxv = orig.max()\n",
    "    minv = orig.min()\n",
    "    X_std = (X - minv) / (maxv - minv)\n",
    "    #X_scaled = X_std * (maxv - minv) + minv\n",
    "    return [X_std]"
   ]
  },
  {
   "cell_type": "code",
   "execution_count": 241,
   "metadata": {},
   "outputs": [],
   "source": [
    "# random shuffle\n",
    "file_shuffled = shuffle(file, random_state=0)\n",
    "x = file_shuffled.drop(columns=['foreclosed'])\n",
    "y = file_shuffled['foreclosed']"
   ]
  },
  {
   "cell_type": "code",
   "execution_count": 242,
   "metadata": {},
   "outputs": [],
   "source": [
    "# divide into training and test\n",
    "X_train, X_test, y_train, y_test = train_test_split(x, y, test_size=0.30, random_state=42)"
   ]
  },
  {
   "cell_type": "code",
   "execution_count": 243,
   "metadata": {},
   "outputs": [],
   "source": [
    "# fit model\n",
    "clf = tree.DecisionTreeClassifier() #decision tree gives best results as per WEKA\n",
    "clf = clf.fit(X_train, y_train)"
   ]
  },
  {
   "cell_type": "code",
   "execution_count": 244,
   "metadata": {},
   "outputs": [
    {
     "data": {
      "text/plain": [
       "1.0"
      ]
     },
     "execution_count": 244,
     "metadata": {},
     "output_type": "execute_result"
    }
   ],
   "source": [
    "# test accuracy\n",
    "from sklearn.metrics import accuracy_score\n",
    "y_predict = clf.predict(X_test)\n",
    "accuracy_score(y_test, y_predict)"
   ]
  },
  {
   "cell_type": "code",
   "execution_count": 245,
   "metadata": {},
   "outputs": [
    {
     "data": {
      "text/plain": [
       "list"
      ]
     },
     "execution_count": 245,
     "metadata": {},
     "output_type": "execute_result"
    }
   ],
   "source": [
    "yt = y_test.tolist()\n",
    "yp = y_predict.tolist()\n",
    "type(yt)"
   ]
  },
  {
   "cell_type": "code",
   "execution_count": 246,
   "metadata": {},
   "outputs": [
    {
     "name": "stdout",
     "output_type": "stream",
     "text": [
      "actual: no, p: no\n",
      "actual: no, p: no\n",
      "actual: no, p: no\n",
      "actual: no, p: no\n",
      "actual: no, p: no\n",
      "actual: no, p: no\n"
     ]
    }
   ],
   "source": [
    "for v in range(len(y_test)):\n",
    "    print(f'actual: {yt[v]}, p: {yp[v]}')"
   ]
  },
  {
   "cell_type": "code",
   "execution_count": 247,
   "metadata": {},
   "outputs": [],
   "source": [
    "def foreclosure_test_model(orgUPB=75000,orgLTV=79,orgCLTV=54,numB=2,dtir=31.0,zipc=173,seller_='JPMORGAN CHASE BANK  NA',state_='TX'):\n",
    "    dic = {'orgUPB':[orgUPB], 'orgLTV':[orgLTV], 'orgCombinedLTV':[orgCLTV], 'numBorrowers':[numB], 'orgDebttoIncomeRatio':[dtir],'zipCodeShort':[zipc],'seller':[seller_],'state':[state_]}\n",
    "    df = pd.DataFrame.from_dict(dic)\n",
    "    seller = le.fit(org_file['sellerName'])\n",
    "    df['seller']=seller.transform(df['seller'])\n",
    "    state = le.fit(org_file['propertyState'])\n",
    "    df['state']=state.transform(df['state'])\n",
    "    df['orgUPB']= scale(df['orgUPB'][0], org_file['orgUPB'])\n",
    "    df['orgLTV']= scale(df['orgLTV'][0], org_file['orgLTV'])\n",
    "    df['orgCombinedLTV']= scale(df['orgCombinedLTV'][0], org_file['orgCombinedLTV'])\n",
    "    df['numBorrowers']= scale(df['numBorrowers'][0], org_file['numBorrowers'])\n",
    "    df['orgDebttoIncomeRatio']= scale(df['orgDebttoIncomeRatio'][0], org_file['orgDebttoIncomeRatio'])\n",
    "    ypred = clf.predict(df)\n",
    "    return ypred"
   ]
  },
  {
   "cell_type": "code",
   "execution_count": 248,
   "metadata": {},
   "outputs": [
    {
     "data": {
      "text/plain": [
       "\"\\norgUPB=75000\\norgLTV=79\\norgCLTV=54\\nnumB=2\\ndtir=31.0\\nzipc=173\\nseller_='JPMORGAN CHASE BANK  NA'\\nstate_='TX'\\ndic = {'orgUPB':[orgUPB], 'orgLTV':[orgLTV], 'orgCombinedLTV':[orgCLTV], 'numBorrowers':[numB], 'orgDebttoIncomeRatio':[dtir],'zipCodeShort':[zipc],'seller':[seller_],'state':[state_]}\\ndf = pd.DataFrame.from_dict(dic)\\nseller = le.fit(org_file['sellerName'])\\ndf['seller']=seller.transform(df['seller'])\\nstate = le.fit(org_file['propertyState'])\\ndf['state']=state.transform(df['state'])\\ndf['orgUPB']= scale(df['orgUPB'][0], org_file['orgUPB'])\\ndf['orgLTV']= scale(df['orgLTV'][0], org_file['orgLTV'])\\ndf['orgCombinedLTV']= scale(df['orgCombinedLTV'][0], org_file['orgCombinedLTV'])\\ndf['numBorrowers']= scale(df['numBorrowers'][0], org_file['numBorrowers'])\\ndf['orgDebttoIncomeRatio']= scale(df['orgDebttoIncomeRatio'][0], org_file['orgDebttoIncomeRatio'])\\ndf\\n\""
      ]
     },
     "execution_count": 248,
     "metadata": {},
     "output_type": "execute_result"
    }
   ],
   "source": [
    "# test\n",
    "'''\n",
    "orgUPB=75000\n",
    "orgLTV=79\n",
    "orgCLTV=54\n",
    "numB=2\n",
    "dtir=31.0\n",
    "zipc=173\n",
    "seller_='JPMORGAN CHASE BANK  NA'\n",
    "state_='TX'\n",
    "dic = {'orgUPB':[orgUPB], 'orgLTV':[orgLTV], 'orgCombinedLTV':[orgCLTV], 'numBorrowers':[numB], 'orgDebttoIncomeRatio':[dtir],'zipCodeShort':[zipc],'seller':[seller_],'state':[state_]}\n",
    "df = pd.DataFrame.from_dict(dic)\n",
    "seller = le.fit(org_file['sellerName'])\n",
    "df['seller']=seller.transform(df['seller'])\n",
    "state = le.fit(org_file['propertyState'])\n",
    "df['state']=state.transform(df['state'])\n",
    "df['orgUPB']= scale(df['orgUPB'][0], org_file['orgUPB'])\n",
    "df['orgLTV']= scale(df['orgLTV'][0], org_file['orgLTV'])\n",
    "df['orgCombinedLTV']= scale(df['orgCombinedLTV'][0], org_file['orgCombinedLTV'])\n",
    "df['numBorrowers']= scale(df['numBorrowers'][0], org_file['numBorrowers'])\n",
    "df['orgDebttoIncomeRatio']= scale(df['orgDebttoIncomeRatio'][0], org_file['orgDebttoIncomeRatio'])\n",
    "df\n",
    "'''"
   ]
  },
  {
   "cell_type": "code",
   "execution_count": 249,
   "metadata": {},
   "outputs": [],
   "source": [
    "# delinquency"
   ]
  },
  {
   "cell_type": "code",
   "execution_count": 250,
   "metadata": {},
   "outputs": [],
   "source": [
    "# zero balance code"
   ]
  },
  {
   "cell_type": "markdown",
   "metadata": {},
   "source": [
    "# Bokeh Structure "
   ]
  },
  {
   "cell_type": "code",
   "execution_count": 270,
   "metadata": {},
   "outputs": [],
   "source": [
    "import bokeh\n",
    "from bokeh.models.glyphs import Text\n",
    "from bokeh.io import output_notebook, show\n",
    "#from bokeh.plotting import output_server\n",
    "from bokeh.layouts import widgetbox\n",
    "from bokeh.models.widgets import Button, RadioButtonGroup, Select, Slider, TextInput"
   ]
  },
  {
   "cell_type": "code",
   "execution_count": 271,
   "metadata": {},
   "outputs": [
    {
     "name": "stdout",
     "output_type": "stream",
     "text": [
      "<class 'pandas.core.frame.DataFrame'>\n",
      "RangeIndex: 4892 entries, 0 to 4891\n",
      "Data columns (total 26 columns):\n",
      "loanID                                4892 non-null int64\n",
      "origChannel                           4892 non-null object\n",
      "sellerName                            4892 non-null object\n",
      "origIntRate                           4892 non-null float64\n",
      "orgUPB                                4892 non-null int64\n",
      "orgLoanTerm                           4892 non-null int64\n",
      "orginationDate                        4892 non-null object\n",
      "firstPaymentDate                      4892 non-null object\n",
      "orgLTV                                4892 non-null int64\n",
      "orgCombinedLTV                        18 non-null float64\n",
      "numBorrowers                          4886 non-null float64\n",
      "orgDebttoIncomeRatio                  4697 non-null float64\n",
      "borrowerCreditScoreAtOrigination      4759 non-null float64\n",
      "firstTimeHomeBuyer                    4892 non-null object\n",
      "loanPurpose                           4892 non-null object\n",
      "propType                              4892 non-null object\n",
      "numUnits                              4892 non-null int64\n",
      "occType                               4892 non-null object\n",
      "propertyState                         4892 non-null object\n",
      "zipCodeShort                          4892 non-null int64\n",
      "priMortgageInsurancePercent           1605 non-null float64\n",
      "prodType                              4892 non-null object\n",
      "coBorrowerCreditScoreAtOrigination    2492 non-null float64\n",
      "mortInsType                           1605 non-null float64\n",
      "reloMortIndicator                     4892 non-null object\n",
      "foreclosed                            4892 non-null object\n",
      "dtypes: float64(8), int64(6), object(12)\n",
      "memory usage: 993.8+ KB\n"
     ]
    }
   ],
   "source": [
    "original['sellerName'].unique()\n",
    "original.info()"
   ]
  },
  {
   "cell_type": "code",
   "execution_count": 272,
   "metadata": {},
   "outputs": [
    {
     "data": {
      "text/plain": [
       "<function bokeh.io.output.output_notebook>"
      ]
     },
     "execution_count": 272,
     "metadata": {},
     "output_type": "execute_result"
    }
   ],
   "source": [
    "select1 = Select(title=\"Seller\", value=\"foo\", options=original['sellerName'].tolist())\n",
    "select2 = Select(title=\"State\", value=\"foo\", options=original['propertyState'].tolist())\n",
    "#heading = Text('Foreclosure Prediction:')\n",
    "button_1 = Button(label=\"Foreclosure Prediction:\")\n",
    "upb = TextInput(\n",
    "    value='75000',\n",
    "    title='origUPB',\n",
    ")\n",
    "ltv = TextInput(    value='79',    title='orig ltv',)\n",
    "cltv = TextInput(    value='54',    title='orig cltv',)\n",
    "numb = TextInput(    value='2',    title='num of borrowers',)\n",
    "dtir = TextInput(    value='31.0',    title='dti ratio',)\n",
    "show(widgetbox(button_1, select1, select2, upb,width=300))\n",
    "output_notebook"
   ]
  },
  {
   "cell_type": "code",
   "execution_count": null,
   "metadata": {},
   "outputs": [],
   "source": []
  }
 ],
 "metadata": {
  "kernelspec": {
   "display_name": "Python 3",
   "language": "python",
   "name": "python3"
  },
  "language_info": {
   "codemirror_mode": {
    "name": "ipython",
    "version": 3
   },
   "file_extension": ".py",
   "mimetype": "text/x-python",
   "name": "python",
   "nbconvert_exporter": "python",
   "pygments_lexer": "ipython3",
   "version": "3.6.7"
  }
 },
 "nbformat": 4,
 "nbformat_minor": 2
}
